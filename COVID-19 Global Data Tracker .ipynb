{
 "cells": [
  {
   "cell_type": "markdown",
   "id": "85b460f9-432e-4e92-b496-c94e034f59ea",
   "metadata": {},
   "source": [
    "#  COVID-19 Global Data Tracker\n",
    "\n",
    "**Author**: David Mwendwa Kimeu  \n",
    "**Date**: July 2025  \n",
    "**Tools Used**: Python, pandas, matplotlib, seaborn, Jupyter Notebook"
   ]
  },
  {
   "cell_type": "markdown",
   "id": "a59aa412-1d34-46ea-a0d9-94bf99bdbdd6",
   "metadata": {},
   "source": [
    "##  Introduction\n",
    "\n",
    "This project analyzes global COVID-19 data from the Our World in Data dataset. The main goals are to:\n",
    "\n",
    "- Explore trends in total cases, deaths, and vaccinations across selected countries (Kenya, USA, India).\n",
    "- Perform data cleaning and analysis using Python.\n",
    "- Visualize the data using charts to identify patterns and insights.\n",
    "- Present a clear and informative report that could guide further study or policy considerations."
   ]
  },
  {
   "cell_type": "code",
   "execution_count": 20,
   "id": "693b12a9-dc41-42d8-b351-dd04f49a2247",
   "metadata": {},
   "outputs": [
    {
     "data": {
      "text/html": [
       "<div>\n",
       "<style scoped>\n",
       "    .dataframe tbody tr th:only-of-type {\n",
       "        vertical-align: middle;\n",
       "    }\n",
       "\n",
       "    .dataframe tbody tr th {\n",
       "        vertical-align: top;\n",
       "    }\n",
       "\n",
       "    .dataframe thead th {\n",
       "        text-align: right;\n",
       "    }\n",
       "</style>\n",
       "<table border=\"1\" class=\"dataframe\">\n",
       "  <thead>\n",
       "    <tr style=\"text-align: right;\">\n",
       "      <th></th>\n",
       "      <th>iso_code</th>\n",
       "      <th>continent</th>\n",
       "      <th>location</th>\n",
       "      <th>date</th>\n",
       "      <th>total_cases</th>\n",
       "      <th>new_cases</th>\n",
       "      <th>new_cases_smoothed</th>\n",
       "      <th>total_deaths</th>\n",
       "      <th>new_deaths</th>\n",
       "      <th>new_deaths_smoothed</th>\n",
       "      <th>...</th>\n",
       "      <th>male_smokers</th>\n",
       "      <th>handwashing_facilities</th>\n",
       "      <th>hospital_beds_per_thousand</th>\n",
       "      <th>life_expectancy</th>\n",
       "      <th>human_development_index</th>\n",
       "      <th>population</th>\n",
       "      <th>excess_mortality_cumulative_absolute</th>\n",
       "      <th>excess_mortality_cumulative</th>\n",
       "      <th>excess_mortality</th>\n",
       "      <th>excess_mortality_cumulative_per_million</th>\n",
       "    </tr>\n",
       "  </thead>\n",
       "  <tbody>\n",
       "    <tr>\n",
       "      <th>0</th>\n",
       "      <td>AFG</td>\n",
       "      <td>Asia</td>\n",
       "      <td>Afghanistan</td>\n",
       "      <td>2020-01-05</td>\n",
       "      <td>0.0</td>\n",
       "      <td>0.0</td>\n",
       "      <td>NaN</td>\n",
       "      <td>0.0</td>\n",
       "      <td>0.0</td>\n",
       "      <td>NaN</td>\n",
       "      <td>...</td>\n",
       "      <td>NaN</td>\n",
       "      <td>37.75</td>\n",
       "      <td>0.5</td>\n",
       "      <td>64.83</td>\n",
       "      <td>0.51</td>\n",
       "      <td>41128772</td>\n",
       "      <td>NaN</td>\n",
       "      <td>NaN</td>\n",
       "      <td>NaN</td>\n",
       "      <td>NaN</td>\n",
       "    </tr>\n",
       "    <tr>\n",
       "      <th>1</th>\n",
       "      <td>AFG</td>\n",
       "      <td>Asia</td>\n",
       "      <td>Afghanistan</td>\n",
       "      <td>2020-01-06</td>\n",
       "      <td>0.0</td>\n",
       "      <td>0.0</td>\n",
       "      <td>NaN</td>\n",
       "      <td>0.0</td>\n",
       "      <td>0.0</td>\n",
       "      <td>NaN</td>\n",
       "      <td>...</td>\n",
       "      <td>NaN</td>\n",
       "      <td>37.75</td>\n",
       "      <td>0.5</td>\n",
       "      <td>64.83</td>\n",
       "      <td>0.51</td>\n",
       "      <td>41128772</td>\n",
       "      <td>NaN</td>\n",
       "      <td>NaN</td>\n",
       "      <td>NaN</td>\n",
       "      <td>NaN</td>\n",
       "    </tr>\n",
       "    <tr>\n",
       "      <th>2</th>\n",
       "      <td>AFG</td>\n",
       "      <td>Asia</td>\n",
       "      <td>Afghanistan</td>\n",
       "      <td>2020-01-07</td>\n",
       "      <td>0.0</td>\n",
       "      <td>0.0</td>\n",
       "      <td>NaN</td>\n",
       "      <td>0.0</td>\n",
       "      <td>0.0</td>\n",
       "      <td>NaN</td>\n",
       "      <td>...</td>\n",
       "      <td>NaN</td>\n",
       "      <td>37.75</td>\n",
       "      <td>0.5</td>\n",
       "      <td>64.83</td>\n",
       "      <td>0.51</td>\n",
       "      <td>41128772</td>\n",
       "      <td>NaN</td>\n",
       "      <td>NaN</td>\n",
       "      <td>NaN</td>\n",
       "      <td>NaN</td>\n",
       "    </tr>\n",
       "    <tr>\n",
       "      <th>3</th>\n",
       "      <td>AFG</td>\n",
       "      <td>Asia</td>\n",
       "      <td>Afghanistan</td>\n",
       "      <td>2020-01-08</td>\n",
       "      <td>0.0</td>\n",
       "      <td>0.0</td>\n",
       "      <td>NaN</td>\n",
       "      <td>0.0</td>\n",
       "      <td>0.0</td>\n",
       "      <td>NaN</td>\n",
       "      <td>...</td>\n",
       "      <td>NaN</td>\n",
       "      <td>37.75</td>\n",
       "      <td>0.5</td>\n",
       "      <td>64.83</td>\n",
       "      <td>0.51</td>\n",
       "      <td>41128772</td>\n",
       "      <td>NaN</td>\n",
       "      <td>NaN</td>\n",
       "      <td>NaN</td>\n",
       "      <td>NaN</td>\n",
       "    </tr>\n",
       "    <tr>\n",
       "      <th>4</th>\n",
       "      <td>AFG</td>\n",
       "      <td>Asia</td>\n",
       "      <td>Afghanistan</td>\n",
       "      <td>2020-01-09</td>\n",
       "      <td>0.0</td>\n",
       "      <td>0.0</td>\n",
       "      <td>NaN</td>\n",
       "      <td>0.0</td>\n",
       "      <td>0.0</td>\n",
       "      <td>NaN</td>\n",
       "      <td>...</td>\n",
       "      <td>NaN</td>\n",
       "      <td>37.75</td>\n",
       "      <td>0.5</td>\n",
       "      <td>64.83</td>\n",
       "      <td>0.51</td>\n",
       "      <td>41128772</td>\n",
       "      <td>NaN</td>\n",
       "      <td>NaN</td>\n",
       "      <td>NaN</td>\n",
       "      <td>NaN</td>\n",
       "    </tr>\n",
       "  </tbody>\n",
       "</table>\n",
       "<p>5 rows × 67 columns</p>\n",
       "</div>"
      ],
      "text/plain": [
       "  iso_code continent     location        date  total_cases  new_cases  \\\n",
       "0      AFG      Asia  Afghanistan  2020-01-05          0.0        0.0   \n",
       "1      AFG      Asia  Afghanistan  2020-01-06          0.0        0.0   \n",
       "2      AFG      Asia  Afghanistan  2020-01-07          0.0        0.0   \n",
       "3      AFG      Asia  Afghanistan  2020-01-08          0.0        0.0   \n",
       "4      AFG      Asia  Afghanistan  2020-01-09          0.0        0.0   \n",
       "\n",
       "   new_cases_smoothed  total_deaths  new_deaths  new_deaths_smoothed  ...  \\\n",
       "0                 NaN           0.0         0.0                  NaN  ...   \n",
       "1                 NaN           0.0         0.0                  NaN  ...   \n",
       "2                 NaN           0.0         0.0                  NaN  ...   \n",
       "3                 NaN           0.0         0.0                  NaN  ...   \n",
       "4                 NaN           0.0         0.0                  NaN  ...   \n",
       "\n",
       "   male_smokers  handwashing_facilities  hospital_beds_per_thousand  \\\n",
       "0           NaN                   37.75                         0.5   \n",
       "1           NaN                   37.75                         0.5   \n",
       "2           NaN                   37.75                         0.5   \n",
       "3           NaN                   37.75                         0.5   \n",
       "4           NaN                   37.75                         0.5   \n",
       "\n",
       "   life_expectancy  human_development_index  population  \\\n",
       "0            64.83                     0.51    41128772   \n",
       "1            64.83                     0.51    41128772   \n",
       "2            64.83                     0.51    41128772   \n",
       "3            64.83                     0.51    41128772   \n",
       "4            64.83                     0.51    41128772   \n",
       "\n",
       "   excess_mortality_cumulative_absolute  excess_mortality_cumulative  \\\n",
       "0                                   NaN                          NaN   \n",
       "1                                   NaN                          NaN   \n",
       "2                                   NaN                          NaN   \n",
       "3                                   NaN                          NaN   \n",
       "4                                   NaN                          NaN   \n",
       "\n",
       "   excess_mortality  excess_mortality_cumulative_per_million  \n",
       "0               NaN                                      NaN  \n",
       "1               NaN                                      NaN  \n",
       "2               NaN                                      NaN  \n",
       "3               NaN                                      NaN  \n",
       "4               NaN                                      NaN  \n",
       "\n",
       "[5 rows x 67 columns]"
      ]
     },
     "execution_count": 20,
     "metadata": {},
     "output_type": "execute_result"
    }
   ],
   "source": [
    "import pandas as pd\n",
    "import matplotlib.pyplot as plt\n",
    "import seaborn as sns\n",
    "\n",
    "sns.set(style=\"darkgrid\")\n",
    "\n",
    "df = pd.read_csv(r\"C:\\Users\\user\\OneDrive\\Desktop\\covid\\owid-covid-data.csv\")\n",
    "\n",
    "df.head()\n"
   ]
  },
  {
   "cell_type": "code",
   "execution_count": 3,
   "id": "138e06da-1847-4ac5-949c-cf1c334415e5",
   "metadata": {},
   "outputs": [
    {
     "data": {
      "text/plain": [
       "['iso_code',\n",
       " 'continent',\n",
       " 'location',\n",
       " 'date',\n",
       " 'total_cases',\n",
       " 'new_cases',\n",
       " 'new_cases_smoothed',\n",
       " 'total_deaths',\n",
       " 'new_deaths',\n",
       " 'new_deaths_smoothed',\n",
       " 'total_cases_per_million',\n",
       " 'new_cases_per_million',\n",
       " 'new_cases_smoothed_per_million',\n",
       " 'total_deaths_per_million',\n",
       " 'new_deaths_per_million',\n",
       " 'new_deaths_smoothed_per_million',\n",
       " 'reproduction_rate',\n",
       " 'icu_patients',\n",
       " 'icu_patients_per_million',\n",
       " 'hosp_patients',\n",
       " 'hosp_patients_per_million',\n",
       " 'weekly_icu_admissions',\n",
       " 'weekly_icu_admissions_per_million',\n",
       " 'weekly_hosp_admissions',\n",
       " 'weekly_hosp_admissions_per_million',\n",
       " 'total_tests',\n",
       " 'new_tests',\n",
       " 'total_tests_per_thousand',\n",
       " 'new_tests_per_thousand',\n",
       " 'new_tests_smoothed',\n",
       " 'new_tests_smoothed_per_thousand',\n",
       " 'positive_rate',\n",
       " 'tests_per_case',\n",
       " 'tests_units',\n",
       " 'total_vaccinations',\n",
       " 'people_vaccinated',\n",
       " 'people_fully_vaccinated',\n",
       " 'total_boosters',\n",
       " 'new_vaccinations',\n",
       " 'new_vaccinations_smoothed',\n",
       " 'total_vaccinations_per_hundred',\n",
       " 'people_vaccinated_per_hundred',\n",
       " 'people_fully_vaccinated_per_hundred',\n",
       " 'total_boosters_per_hundred',\n",
       " 'new_vaccinations_smoothed_per_million',\n",
       " 'new_people_vaccinated_smoothed',\n",
       " 'new_people_vaccinated_smoothed_per_hundred',\n",
       " 'stringency_index',\n",
       " 'population_density',\n",
       " 'median_age',\n",
       " 'aged_65_older',\n",
       " 'aged_70_older',\n",
       " 'gdp_per_capita',\n",
       " 'extreme_poverty',\n",
       " 'cardiovasc_death_rate',\n",
       " 'diabetes_prevalence',\n",
       " 'female_smokers',\n",
       " 'male_smokers',\n",
       " 'handwashing_facilities',\n",
       " 'hospital_beds_per_thousand',\n",
       " 'life_expectancy',\n",
       " 'human_development_index',\n",
       " 'population',\n",
       " 'excess_mortality_cumulative_absolute',\n",
       " 'excess_mortality_cumulative',\n",
       " 'excess_mortality',\n",
       " 'excess_mortality_cumulative_per_million']"
      ]
     },
     "execution_count": 3,
     "metadata": {},
     "output_type": "execute_result"
    }
   ],
   "source": [
    "# Show all column names in the dataset\n",
    "df.columns.tolist()\n"
   ]
  },
  {
   "cell_type": "code",
   "execution_count": 4,
   "id": "a9a4f9bb-0260-446c-9af0-2ddaf6c8fac8",
   "metadata": {},
   "outputs": [
    {
     "data": {
      "text/plain": [
       "weekly_icu_admissions                   418442\n",
       "weekly_icu_admissions_per_million       418442\n",
       "excess_mortality                        416024\n",
       "excess_mortality_cumulative_absolute    416024\n",
       "excess_mortality_cumulative             416024\n",
       "                                         ...  \n",
       "total_cases_per_million                  17631\n",
       "location                                     0\n",
       "iso_code                                     0\n",
       "date                                         0\n",
       "population                                   0\n",
       "Length: 67, dtype: int64"
      ]
     },
     "execution_count": 4,
     "metadata": {},
     "output_type": "execute_result"
    }
   ],
   "source": [
    "# Show number of missing (null) values in each column\n",
    "df.isnull().sum().sort_values(ascending=False)\n"
   ]
  },
  {
   "cell_type": "code",
   "execution_count": 5,
   "id": "5258c8d1-1df1-4700-b065-7488bd0ab658",
   "metadata": {},
   "outputs": [
    {
     "data": {
      "text/plain": [
       "array(['Afghanistan', 'Africa', 'Albania', 'Algeria', 'American Samoa',\n",
       "       'Andorra', 'Angola', 'Anguilla', 'Antigua and Barbuda',\n",
       "       'Argentina'], dtype=object)"
      ]
     },
     "execution_count": 5,
     "metadata": {},
     "output_type": "execute_result"
    }
   ],
   "source": [
    "# See how many countries/regions are in the data\n",
    "df['location'].nunique()\n",
    "\n",
    "# Show a few country names\n",
    "df['location'].unique()[:10]\n"
   ]
  },
  {
   "cell_type": "code",
   "execution_count": 6,
   "id": "51f980d6-f6b1-4b6a-97dd-66b908b922b7",
   "metadata": {},
   "outputs": [
    {
     "data": {
      "text/plain": [
       "array(['Afghanistan', 'Africa', 'Albania', 'Algeria', 'American Samoa',\n",
       "       'Andorra', 'Angola', 'Anguilla', 'Antigua and Barbuda',\n",
       "       'Argentina'], dtype=object)"
      ]
     },
     "execution_count": 6,
     "metadata": {},
     "output_type": "execute_result"
    }
   ],
   "source": [
    "df['location'].nunique()\n",
    "df['location'].unique()[:10]\n"
   ]
  },
  {
   "cell_type": "code",
   "execution_count": 7,
   "id": "44ea595e-cdf3-457e-8511-2c0054be75f4",
   "metadata": {},
   "outputs": [],
   "source": [
    "# Filter for 3 countries of interest\n",
    "countries = ['Kenya', 'India', 'United States']\n",
    "df = df[df['location'].isin(countries)]\n"
   ]
  },
  {
   "cell_type": "code",
   "execution_count": 8,
   "id": "7d4f9fca-fef3-47bd-9575-f1d5e17d090a",
   "metadata": {},
   "outputs": [],
   "source": [
    "# Convert date column to datetime type\n",
    "df['date'] = pd.to_datetime(df['date'])\n"
   ]
  },
  {
   "cell_type": "code",
   "execution_count": 9,
   "id": "ac34a311-2b7d-4312-96d6-7a40b6f63ad7",
   "metadata": {},
   "outputs": [],
   "source": [
    "# Fill missing numeric values with 0\n",
    "df.fillna(0, inplace=True)\n"
   ]
  },
  {
   "cell_type": "code",
   "execution_count": 10,
   "id": "fe25bf91-2284-44d2-b6fe-bd69e422d7ab",
   "metadata": {},
   "outputs": [
    {
     "data": {
      "image/png": "[encoded data removed]",
      "text/plain": [
       "<Figure size 1200x600 with 1 Axes>"
      ]
     },
     "metadata": {},
     "output_type": "display_data"
    }
   ],
   "source": [
    "# Plot total cases over time for each country\n",
    "plt.figure(figsize=(12, 6))\n",
    "\n",
    "for country in countries:\n",
    "    data = df[df['location'] == country]\n",
    "    plt.plot(data['date'], data['total_cases'], label=country)\n",
    "\n",
    "plt.title(\"Total COVID-19 Cases Over Time\")\n",
    "plt.xlabel(\"Date\")\n",
    "plt.ylabel(\"Total Cases\")\n",
    "plt.legend()\n",
    "plt.xticks(rotation=45)\n",
    "plt.tight_layout()\n",
    "plt.show()\n"
   ]
  },
  {
   "cell_type": "code",
   "execution_count": 13,
   "id": "e311e410-9bb1-44fd-9563-82f112ab5044",
   "metadata": {},
   "outputs": [],
   "source": [
    "# Calculate death rate\n",
    "df['death_rate'] = df['total_deaths'] / df['total_cases']\n",
    "\n",
    "# Replace inf and NaN values with 0 using the safe method\n",
    "df['death_rate'] = df['death_rate'].replace([float('inf'), float('nan')], 0)\n"
   ]
  },
  {
   "cell_type": "code",
   "execution_count": 14,
   "id": "8630fa76-b665-460b-be8c-fd332bfe4906",
   "metadata": {},
   "outputs": [
    {
     "data": {
      "image/png": "[encoded data removed]",
      "text/plain": [
       "<Figure size 1200x600 with 1 Axes>"
      ]
     },
     "metadata": {},
     "output_type": "display_data"
    }
   ],
   "source": [
    "# Plot death rate trends for selected countries\n",
    "plt.figure(figsize=(12, 6))\n",
    "\n",
    "for country in countries:\n",
    "    country_data = df[df['location'] == country]\n",
    "    plt.plot(country_data['date'], country_data['death_rate'], label=country)\n",
    "\n",
    "plt.title(\"COVID-19 Death Rate Over Time\")\n",
    "plt.xlabel(\"Date\")\n",
    "plt.ylabel(\"Death Rate (Total Deaths / Total Cases)\")\n",
    "plt.legend()\n",
    "plt.xticks(rotation=45)\n",
    "plt.tight_layout()\n",
    "plt.show()\n"
   ]
  },
  {
   "cell_type": "code",
   "execution_count": 15,
   "id": "753fe2ca-efef-4c33-a477-5bcfc3063311",
   "metadata": {},
   "outputs": [
    {
     "data": {
      "image/png": "[encoded data removed]",
      "text/plain": [
       "<Figure size 1200x600 with 1 Axes>"
      ]
     },
     "metadata": {},
     "output_type": "display_data"
    }
   ],
   "source": [
    "# Plot total vaccinations over time for selected countries\n",
    "plt.figure(figsize=(12, 6))\n",
    "\n",
    "for country in countries:\n",
    "    country_data = df[df['location'] == country]\n",
    "    plt.plot(country_data['date'], country_data['total_vaccinations'], label=country)\n",
    "\n",
    "plt.title(\"Cumulative COVID-19 Vaccinations Over Time\")\n",
    "plt.xlabel(\"Date\")\n",
    "plt.ylabel(\"Total Vaccinations\")\n",
    "plt.legend()\n",
    "plt.xticks(rotation=45)\n",
    "plt.tight_layout()\n",
    "plt.show()\n"
   ]
  },
  {
   "cell_type": "code",
   "execution_count": 16,
   "id": "94d3a3c9-c7d4-432e-af3a-5ee024610377",
   "metadata": {},
   "outputs": [
    {
     "data": {
      "image/png": "[encoded data removed]",
      "text/plain": [
       "<Figure size 1200x600 with 1 Axes>"
      ]
     },
     "metadata": {},
     "output_type": "display_data"
    }
   ],
   "source": [
    "# Plot percentage of people fully vaccinated\n",
    "plt.figure(figsize=(12, 6))\n",
    "\n",
    "for country in countries:\n",
    "    country_data = df[df['location'] == country]\n",
    "    plt.plot(country_data['date'], country_data['people_fully_vaccinated_per_hundred'], label=country)\n",
    "\n",
    "plt.title(\"People Fully Vaccinated (% of Population)\")\n",
    "plt.xlabel(\"Date\")\n",
    "plt.ylabel(\"Percentage (%)\")\n",
    "plt.legend()\n",
    "plt.xticks(rotation=45)\n",
    "plt.tight_layout()\n",
    "plt.show()\n"
   ]
  },
  {
   "cell_type": "code",
   "execution_count": 18,
   "id": "916a64f7-21d2-4b21-9b47-b459d2a07b68",
   "metadata": {},
   "outputs": [
    {
     "name": "stdout",
     "output_type": "stream",
     "text": [
      "Collecting plotly\n",
      "  Downloading plotly-6.2.0-py3-none-any.whl.metadata (8.5 kB)\n",
      "Collecting narwhals>=1.15.1 (from plotly)\n",
      "  Downloading narwhals-2.0.1-py3-none-any.whl.metadata (11 kB)\n",
      "Requirement already satisfied: packaging in c:\\users\\user\\appdata\\roaming\\python\\python313\\site-packages (from plotly) (25.0)\n",
      "Downloading plotly-6.2.0-py3-none-any.whl (9.6 MB)\n",
      "   ---------------------------------------- 0.0/9.6 MB ? eta -:--:--\n",
      "   ---------------------------------------- 0.0/9.6 MB ? eta -:--:--\n",
      "   ---------------------------------------- 0.0/9.6 MB ? eta -:--:--\n",
      "   ---------------------------------------- 0.0/9.6 MB ? eta -:--:--\n",
      "   - -------------------------------------- 0.3/9.6 MB ? eta -:--:--\n",
      "   - -------------------------------------- 0.3/9.6 MB ? eta -:--:--\n",
      "   - -------------------------------------- 0.3/9.6 MB ? eta -:--:--\n",
      "   - -------------------------------------- 0.3/9.6 MB ? eta -:--:--\n",
      "   - -------------------------------------- 0.3/9.6 MB ? eta -:--:--\n",
      "   - -------------------------------------- 0.3/9.6 MB ? eta -:--:--\n",
      "   - -------------------------------------- 0.3/9.6 MB ? eta -:--:--\n",
      "   - -------------------------------------- 0.3/9.6 MB ? eta -:--:--\n",
      "   - -------------------------------------- 0.3/9.6 MB ? eta -:--:--\n",
      "   - -------------------------------------- 0.3/9.6 MB ? eta -:--:--\n",
      "   - -------------------------------------- 0.3/9.6 MB ? eta -:--:--\n",
      "   -- ------------------------------------- 0.5/9.6 MB 118.5 kB/s eta 0:01:17\n",
      "   -- ------------------------------------- 0.5/9.6 MB 118.5 kB/s eta 0:01:17\n",
      "   -- ------------------------------------- 0.5/9.6 MB 118.5 kB/s eta 0:01:17\n",
      "   -- ------------------------------------- 0.5/9.6 MB 118.5 kB/s eta 0:01:17\n",
      "   -- ------------------------------------- 0.5/9.6 MB 118.5 kB/s eta 0:01:17\n",
      "   -- ------------------------------------- 0.5/9.6 MB 118.5 kB/s eta 0:01:17\n",
      "   -- ------------------------------------- 0.5/9.6 MB 118.5 kB/s eta 0:01:17\n",
      "   --- ------------------------------------ 0.8/9.6 MB 145.0 kB/s eta 0:01:02\n",
      "   --- ------------------------------------ 0.8/9.6 MB 145.0 kB/s eta 0:01:02\n",
      "   --- ------------------------------------ 0.8/9.6 MB 145.0 kB/s eta 0:01:02\n",
      "   --- ------------------------------------ 0.8/9.6 MB 145.0 kB/s eta 0:01:02\n",
      "   --- ------------------------------------ 0.8/9.6 MB 145.0 kB/s eta 0:01:02\n",
      "   --- ------------------------------------ 0.8/9.6 MB 145.0 kB/s eta 0:01:02\n",
      "   --- ------------------------------------ 0.8/9.6 MB 145.0 kB/s eta 0:01:02\n",
      "   --- ------------------------------------ 0.8/9.6 MB 145.0 kB/s eta 0:01:02\n",
      "   --- ------------------------------------ 0.8/9.6 MB 145.0 kB/s eta 0:01:02\n",
      "   --- ------------------------------------ 0.8/9.6 MB 145.0 kB/s eta 0:01:02\n",
      "   ---- ----------------------------------- 1.0/9.6 MB 136.6 kB/s eta 0:01:03\n",
      "   ---- ----------------------------------- 1.0/9.6 MB 136.6 kB/s eta 0:01:03\n",
      "   ---- ----------------------------------- 1.0/9.6 MB 136.6 kB/s eta 0:01:03\n",
      "   ---- ----------------------------------- 1.0/9.6 MB 136.6 kB/s eta 0:01:03\n",
      "   ---- ----------------------------------- 1.0/9.6 MB 136.6 kB/s eta 0:01:03\n",
      "   ---- ----------------------------------- 1.0/9.6 MB 136.6 kB/s eta 0:01:03\n",
      "   ----- ---------------------------------- 1.3/9.6 MB 148.8 kB/s eta 0:00:56\n",
      "   ----- ---------------------------------- 1.3/9.6 MB 148.8 kB/s eta 0:00:56\n",
      "   ----- ---------------------------------- 1.3/9.6 MB 148.8 kB/s eta 0:00:56\n",
      "   ----- ---------------------------------- 1.3/9.6 MB 148.8 kB/s eta 0:00:56\n",
      "   ----- ---------------------------------- 1.3/9.6 MB 148.8 kB/s eta 0:00:56\n",
      "   ----- ---------------------------------- 1.3/9.6 MB 148.8 kB/s eta 0:00:56\n",
      "   ----- ---------------------------------- 1.3/9.6 MB 148.8 kB/s eta 0:00:56\n",
      "   ----- ---------------------------------- 1.3/9.6 MB 148.8 kB/s eta 0:00:56\n",
      "   ------ --------------------------------- 1.6/9.6 MB 152.0 kB/s eta 0:00:54\n",
      "   ------ --------------------------------- 1.6/9.6 MB 152.0 kB/s eta 0:00:54\n",
      "   ------ --------------------------------- 1.6/9.6 MB 152.0 kB/s eta 0:00:54\n",
      "   ------ --------------------------------- 1.6/9.6 MB 152.0 kB/s eta 0:00:54\n",
      "   ------ --------------------------------- 1.6/9.6 MB 152.0 kB/s eta 0:00:54\n",
      "   ------- -------------------------------- 1.8/9.6 MB 162.4 kB/s eta 0:00:49\n",
      "   ------- -------------------------------- 1.8/9.6 MB 162.4 kB/s eta 0:00:49\n",
      "   ------- -------------------------------- 1.8/9.6 MB 162.4 kB/s eta 0:00:49\n",
      "   ------- -------------------------------- 1.8/9.6 MB 162.4 kB/s eta 0:00:49\n",
      "   ------- -------------------------------- 1.8/9.6 MB 162.4 kB/s eta 0:00:49\n",
      "   ------- -------------------------------- 1.8/9.6 MB 162.4 kB/s eta 0:00:49\n",
      "   ------- -------------------------------- 1.8/9.6 MB 162.4 kB/s eta 0:00:49\n",
      "   -------- ------------------------------- 2.1/9.6 MB 164.6 kB/s eta 0:00:46\n",
      "   -------- ------------------------------- 2.1/9.6 MB 164.6 kB/s eta 0:00:46\n",
      "   -------- ------------------------------- 2.1/9.6 MB 164.6 kB/s eta 0:00:46\n",
      "   -------- ------------------------------- 2.1/9.6 MB 164.6 kB/s eta 0:00:46\n",
      "   -------- ------------------------------- 2.1/9.6 MB 164.6 kB/s eta 0:00:46\n",
      "   -------- ------------------------------- 2.1/9.6 MB 164.6 kB/s eta 0:00:46\n",
      "   -------- ------------------------------- 2.1/9.6 MB 164.6 kB/s eta 0:00:46\n",
      "   -------- ------------------------------- 2.1/9.6 MB 164.6 kB/s eta 0:00:46\n",
      "   -------- ------------------------------- 2.1/9.6 MB 164.6 kB/s eta 0:00:46\n",
      "   --------- ------------------------------ 2.4/9.6 MB 160.3 kB/s eta 0:00:46\n",
      "   --------- ------------------------------ 2.4/9.6 MB 160.3 kB/s eta 0:00:46\n",
      "   --------- ------------------------------ 2.4/9.6 MB 160.3 kB/s eta 0:00:46\n",
      "   --------- ------------------------------ 2.4/9.6 MB 160.3 kB/s eta 0:00:46\n",
      "   --------- ------------------------------ 2.4/9.6 MB 160.3 kB/s eta 0:00:46\n",
      "   --------- ------------------------------ 2.4/9.6 MB 160.3 kB/s eta 0:00:46\n",
      "   --------- ------------------------------ 2.4/9.6 MB 160.3 kB/s eta 0:00:46\n",
      "   --------- ------------------------------ 2.4/9.6 MB 160.3 kB/s eta 0:00:46\n",
      "   ---------- ----------------------------- 2.6/9.6 MB 160.3 kB/s eta 0:00:44\n",
      "   ---------- ----------------------------- 2.6/9.6 MB 160.3 kB/s eta 0:00:44\n",
      "   ---------- ----------------------------- 2.6/9.6 MB 160.3 kB/s eta 0:00:44\n",
      "   ---------- ----------------------------- 2.6/9.6 MB 160.3 kB/s eta 0:00:44\n",
      "   ---------- ----------------------------- 2.6/9.6 MB 160.3 kB/s eta 0:00:44\n",
      "   ---------- ----------------------------- 2.6/9.6 MB 160.3 kB/s eta 0:00:44\n",
      "   ---------- ----------------------------- 2.6/9.6 MB 160.3 kB/s eta 0:00:44\n",
      "   ---------- ----------------------------- 2.6/9.6 MB 160.3 kB/s eta 0:00:44\n",
      "   ----------- ---------------------------- 2.9/9.6 MB 160.4 kB/s eta 0:00:43\n",
      "   ----------- ---------------------------- 2.9/9.6 MB 160.4 kB/s eta 0:00:43\n",
      "   ----------- ---------------------------- 2.9/9.6 MB 160.4 kB/s eta 0:00:43\n",
      "   ----------- ---------------------------- 2.9/9.6 MB 160.4 kB/s eta 0:00:43\n",
      "   ----------- ---------------------------- 2.9/9.6 MB 160.4 kB/s eta 0:00:43\n",
      "   ----------- ---------------------------- 2.9/9.6 MB 160.4 kB/s eta 0:00:43\n",
      "   ----------- ---------------------------- 2.9/9.6 MB 160.4 kB/s eta 0:00:43\n",
      "   ----------- ---------------------------- 2.9/9.6 MB 160.4 kB/s eta 0:00:43\n",
      "   ----------- ---------------------------- 2.9/9.6 MB 160.4 kB/s eta 0:00:43\n",
      "   ----------- ---------------------------- 2.9/9.6 MB 160.4 kB/s eta 0:00:43\n",
      "   ------------- -------------------------- 3.1/9.6 MB 155.7 kB/s eta 0:00:42\n",
      "   ------------- -------------------------- 3.1/9.6 MB 155.7 kB/s eta 0:00:42\n",
      "   ------------- -------------------------- 3.1/9.6 MB 155.7 kB/s eta 0:00:42\n",
      "   ------------- -------------------------- 3.1/9.6 MB 155.7 kB/s eta 0:00:42\n",
      "   ------------- -------------------------- 3.1/9.6 MB 155.7 kB/s eta 0:00:42\n",
      "   ------------- -------------------------- 3.1/9.6 MB 155.7 kB/s eta 0:00:42\n",
      "   ------------- -------------------------- 3.1/9.6 MB 155.7 kB/s eta 0:00:42\n",
      "   -------------- ------------------------- 3.4/9.6 MB 157.7 kB/s eta 0:00:40\n",
      "   -------------- ------------------------- 3.4/9.6 MB 157.7 kB/s eta 0:00:40\n",
      "   -------------- ------------------------- 3.4/9.6 MB 157.7 kB/s eta 0:00:40\n",
      "   -------------- ------------------------- 3.4/9.6 MB 157.7 kB/s eta 0:00:40\n",
      "   -------------- ------------------------- 3.4/9.6 MB 157.7 kB/s eta 0:00:40\n",
      "   -------------- ------------------------- 3.4/9.6 MB 157.7 kB/s eta 0:00:40\n",
      "   -------------- ------------------------- 3.4/9.6 MB 157.7 kB/s eta 0:00:40\n",
      "   -------------- ------------------------- 3.4/9.6 MB 157.7 kB/s eta 0:00:40\n",
      "   -------------- ------------------------- 3.4/9.6 MB 157.7 kB/s eta 0:00:40\n",
      "   -------------- ------------------------- 3.4/9.6 MB 157.7 kB/s eta 0:00:40\n",
      "   -------------- ------------------------- 3.4/9.6 MB 157.7 kB/s eta 0:00:40\n",
      "   -------------- ------------------------- 3.4/9.6 MB 157.7 kB/s eta 0:00:40\n",
      "   -------------- ------------------------- 3.4/9.6 MB 157.7 kB/s eta 0:00:40\n",
      "   -------------- ------------------------- 3.4/9.6 MB 157.7 kB/s eta 0:00:40\n",
      "   -------------- ------------------------- 3.4/9.6 MB 157.7 kB/s eta 0:00:40\n",
      "   --------------- ------------------------ 3.7/9.6 MB 147.4 kB/s eta 0:00:41\n",
      "   --------------- ------------------------ 3.7/9.6 MB 147.4 kB/s eta 0:00:41\n",
      "   --------------- ------------------------ 3.7/9.6 MB 147.4 kB/s eta 0:00:41\n",
      "   --------------- ------------------------ 3.7/9.6 MB 147.4 kB/s eta 0:00:41\n",
      "   --------------- ------------------------ 3.7/9.6 MB 147.4 kB/s eta 0:00:41\n",
      "   --------------- ------------------------ 3.7/9.6 MB 147.4 kB/s eta 0:00:41\n",
      "   --------------- ------------------------ 3.7/9.6 MB 147.4 kB/s eta 0:00:41\n",
      "   --------------- ------------------------ 3.7/9.6 MB 147.4 kB/s eta 0:00:41\n",
      "   --------------- ------------------------ 3.7/9.6 MB 147.4 kB/s eta 0:00:41\n",
      "   --------------- ------------------------ 3.7/9.6 MB 147.4 kB/s eta 0:00:41\n",
      "   ---------------- ----------------------- 3.9/9.6 MB 145.1 kB/s eta 0:00:40\n",
      "   ---------------- ----------------------- 3.9/9.6 MB 145.1 kB/s eta 0:00:40\n",
      "   ---------------- ----------------------- 3.9/9.6 MB 145.1 kB/s eta 0:00:40\n",
      "   ---------------- ----------------------- 3.9/9.6 MB 145.1 kB/s eta 0:00:40\n",
      "   ---------------- ----------------------- 3.9/9.6 MB 145.1 kB/s eta 0:00:40\n",
      "   ---------------- ----------------------- 3.9/9.6 MB 145.1 kB/s eta 0:00:40\n",
      "   ---------------- ----------------------- 3.9/9.6 MB 145.1 kB/s eta 0:00:40\n",
      "   ---------------- ----------------------- 3.9/9.6 MB 145.1 kB/s eta 0:00:40\n",
      "   ---------------- ----------------------- 3.9/9.6 MB 145.1 kB/s eta 0:00:40\n",
      "   ---------------- ----------------------- 3.9/9.6 MB 145.1 kB/s eta 0:00:40\n",
      "   ---------------- ----------------------- 3.9/9.6 MB 145.1 kB/s eta 0:00:40\n",
      "   ---------------- ----------------------- 3.9/9.6 MB 145.1 kB/s eta 0:00:40\n",
      "   ---------------- ----------------------- 3.9/9.6 MB 145.1 kB/s eta 0:00:40\n",
      "   ---------------- ----------------------- 3.9/9.6 MB 145.1 kB/s eta 0:00:40\n",
      "   ---------------- ----------------------- 3.9/9.6 MB 145.1 kB/s eta 0:00:40\n",
      "   ----------------- ---------------------- 4.2/9.6 MB 138.2 kB/s eta 0:00:40\n",
      "   ----------------- ---------------------- 4.2/9.6 MB 138.2 kB/s eta 0:00:40\n",
      "   ----------------- ---------------------- 4.2/9.6 MB 138.2 kB/s eta 0:00:40\n",
      "   ----------------- ---------------------- 4.2/9.6 MB 138.2 kB/s eta 0:00:40\n",
      "   ----------------- ---------------------- 4.2/9.6 MB 138.2 kB/s eta 0:00:40\n",
      "   ----------------- ---------------------- 4.2/9.6 MB 138.2 kB/s eta 0:00:40\n",
      "   ----------------- ---------------------- 4.2/9.6 MB 138.2 kB/s eta 0:00:40\n",
      "   ----------------- ---------------------- 4.2/9.6 MB 138.2 kB/s eta 0:00:40\n",
      "   ----------------- ---------------------- 4.2/9.6 MB 138.2 kB/s eta 0:00:40\n",
      "   ----------------- ---------------------- 4.2/9.6 MB 138.2 kB/s eta 0:00:40\n",
      "   ----------------- ---------------------- 4.2/9.6 MB 138.2 kB/s eta 0:00:40\n",
      "   ----------------- ---------------------- 4.2/9.6 MB 138.2 kB/s eta 0:00:40\n",
      "   ----------------- ---------------------- 4.2/9.6 MB 138.2 kB/s eta 0:00:40\n",
      "   ------------------ --------------------- 4.5/9.6 MB 135.2 kB/s eta 0:00:39\n",
      "   ------------------ --------------------- 4.5/9.6 MB 135.2 kB/s eta 0:00:39\n",
      "   ------------------ --------------------- 4.5/9.6 MB 135.2 kB/s eta 0:00:39\n",
      "   ------------------ --------------------- 4.5/9.6 MB 135.2 kB/s eta 0:00:39\n",
      "   ------------------ --------------------- 4.5/9.6 MB 135.2 kB/s eta 0:00:39\n",
      "   ------------------ --------------------- 4.5/9.6 MB 135.2 kB/s eta 0:00:39\n",
      "   ------------------ --------------------- 4.5/9.6 MB 135.2 kB/s eta 0:00:39\n",
      "   ------------------ --------------------- 4.5/9.6 MB 135.2 kB/s eta 0:00:39\n",
      "   ------------------ --------------------- 4.5/9.6 MB 135.2 kB/s eta 0:00:39\n",
      "   ------------------ --------------------- 4.5/9.6 MB 135.2 kB/s eta 0:00:39\n",
      "   ------------------ --------------------- 4.5/9.6 MB 135.2 kB/s eta 0:00:39\n",
      "   ------------------- -------------------- 4.7/9.6 MB 131.4 kB/s eta 0:00:38\n",
      "   ------------------- -------------------- 4.7/9.6 MB 131.4 kB/s eta 0:00:38\n",
      "   ------------------- -------------------- 4.7/9.6 MB 131.4 kB/s eta 0:00:38\n",
      "   ------------------- -------------------- 4.7/9.6 MB 131.4 kB/s eta 0:00:38\n",
      "   ------------------- -------------------- 4.7/9.6 MB 131.4 kB/s eta 0:00:38\n",
      "   ------------------- -------------------- 4.7/9.6 MB 131.4 kB/s eta 0:00:38\n",
      "   ------------------- -------------------- 4.7/9.6 MB 131.4 kB/s eta 0:00:38\n",
      "   -------------------- ------------------- 5.0/9.6 MB 134.9 kB/s eta 0:00:35\n",
      "   -------------------- ------------------- 5.0/9.6 MB 134.9 kB/s eta 0:00:35\n",
      "   -------------------- ------------------- 5.0/9.6 MB 134.9 kB/s eta 0:00:35\n",
      "   -------------------- ------------------- 5.0/9.6 MB 134.9 kB/s eta 0:00:35\n",
      "   -------------------- ------------------- 5.0/9.6 MB 134.9 kB/s eta 0:00:35\n",
      "   --------------------- ------------------ 5.2/9.6 MB 135.9 kB/s eta 0:00:33\n",
      "   --------------------- ------------------ 5.2/9.6 MB 135.9 kB/s eta 0:00:33\n",
      "   --------------------- ------------------ 5.2/9.6 MB 135.9 kB/s eta 0:00:33\n",
      "   --------------------- ------------------ 5.2/9.6 MB 135.9 kB/s eta 0:00:33\n",
      "   --------------------- ------------------ 5.2/9.6 MB 135.9 kB/s eta 0:00:33\n",
      "   --------------------- ------------------ 5.2/9.6 MB 135.9 kB/s eta 0:00:33\n",
      "   --------------------- ------------------ 5.2/9.6 MB 135.9 kB/s eta 0:00:33\n",
      "   --------------------- ------------------ 5.2/9.6 MB 135.9 kB/s eta 0:00:33\n",
      "   ---------------------- ----------------- 5.5/9.6 MB 134.9 kB/s eta 0:00:31\n",
      "   ---------------------- ----------------- 5.5/9.6 MB 134.9 kB/s eta 0:00:31\n",
      "   ---------------------- ----------------- 5.5/9.6 MB 134.9 kB/s eta 0:00:31\n",
      "   ---------------------- ----------------- 5.5/9.6 MB 134.9 kB/s eta 0:00:31\n",
      "   ---------------------- ----------------- 5.5/9.6 MB 134.9 kB/s eta 0:00:31\n",
      "   ---------------------- ----------------- 5.5/9.6 MB 134.9 kB/s eta 0:00:31\n",
      "   ---------------------- ----------------- 5.5/9.6 MB 134.9 kB/s eta 0:00:31\n",
      "   ---------------------- ----------------- 5.5/9.6 MB 134.9 kB/s eta 0:00:31\n",
      "   ---------------------- ----------------- 5.5/9.6 MB 134.9 kB/s eta 0:00:31\n",
      "   ----------------------- ---------------- 5.8/9.6 MB 131.6 kB/s eta 0:00:30\n",
      "   ----------------------- ---------------- 5.8/9.6 MB 131.6 kB/s eta 0:00:30\n",
      "   ----------------------- ---------------- 5.8/9.6 MB 131.6 kB/s eta 0:00:30\n",
      "   ----------------------- ---------------- 5.8/9.6 MB 131.6 kB/s eta 0:00:30\n",
      "   ----------------------- ---------------- 5.8/9.6 MB 131.6 kB/s eta 0:00:30\n",
      "   ----------------------- ---------------- 5.8/9.6 MB 131.6 kB/s eta 0:00:30\n",
      "   ----------------------- ---------------- 5.8/9.6 MB 131.6 kB/s eta 0:00:30\n",
      "   ------------------------- -------------- 6.0/9.6 MB 131.7 kB/s eta 0:00:28\n",
      "   ------------------------- -------------- 6.0/9.6 MB 131.7 kB/s eta 0:00:28\n",
      "   ------------------------- -------------- 6.0/9.6 MB 131.7 kB/s eta 0:00:28\n",
      "   ------------------------- -------------- 6.0/9.6 MB 131.7 kB/s eta 0:00:28\n",
      "   ------------------------- -------------- 6.0/9.6 MB 131.7 kB/s eta 0:00:28\n",
      "   ------------------------- -------------- 6.0/9.6 MB 131.7 kB/s eta 0:00:28\n",
      "   ------------------------- -------------- 6.0/9.6 MB 131.7 kB/s eta 0:00:28\n",
      "   -------------------------- ------------- 6.3/9.6 MB 133.2 kB/s eta 0:00:26\n",
      "   -------------------------- ------------- 6.3/9.6 MB 133.2 kB/s eta 0:00:26\n",
      "   -------------------------- ------------- 6.3/9.6 MB 133.2 kB/s eta 0:00:26\n",
      "   -------------------------- ------------- 6.3/9.6 MB 133.2 kB/s eta 0:00:26\n",
      "   -------------------------- ------------- 6.3/9.6 MB 133.2 kB/s eta 0:00:26\n",
      "   -------------------------- ------------- 6.3/9.6 MB 133.2 kB/s eta 0:00:26\n",
      "   -------------------------- ------------- 6.3/9.6 MB 133.2 kB/s eta 0:00:26\n",
      "   -------------------------- ------------- 6.3/9.6 MB 133.2 kB/s eta 0:00:26\n",
      "   -------------------------- ------------- 6.3/9.6 MB 133.2 kB/s eta 0:00:26\n",
      "   -------------------------- ------------- 6.3/9.6 MB 133.2 kB/s eta 0:00:26\n",
      "   -------------------------- ------------- 6.3/9.6 MB 133.2 kB/s eta 0:00:26\n",
      "   --------------------------- ------------ 6.6/9.6 MB 128.8 kB/s eta 0:00:24\n",
      "   --------------------------- ------------ 6.6/9.6 MB 128.8 kB/s eta 0:00:24\n",
      "   --------------------------- ------------ 6.6/9.6 MB 128.8 kB/s eta 0:00:24\n",
      "   --------------------------- ------------ 6.6/9.6 MB 128.8 kB/s eta 0:00:24\n",
      "   --------------------------- ------------ 6.6/9.6 MB 128.8 kB/s eta 0:00:24\n",
      "   --------------------------- ------------ 6.6/9.6 MB 128.8 kB/s eta 0:00:24\n",
      "   --------------------------- ------------ 6.6/9.6 MB 128.8 kB/s eta 0:00:24\n",
      "   --------------------------- ------------ 6.6/9.6 MB 128.8 kB/s eta 0:00:24\n",
      "   --------------------------- ------------ 6.6/9.6 MB 128.8 kB/s eta 0:00:24\n",
      "   --------------------------- ------------ 6.6/9.6 MB 128.8 kB/s eta 0:00:24\n",
      "   --------------------------- ------------ 6.6/9.6 MB 128.8 kB/s eta 0:00:24\n",
      "   ---------------------------- ----------- 6.8/9.6 MB 128.6 kB/s eta 0:00:22\n",
      "   ---------------------------- ----------- 6.8/9.6 MB 128.6 kB/s eta 0:00:22\n",
      "   ---------------------------- ----------- 6.8/9.6 MB 128.6 kB/s eta 0:00:22\n",
      "   ---------------------------- ----------- 6.8/9.6 MB 128.6 kB/s eta 0:00:22\n",
      "   ---------------------------- ----------- 6.8/9.6 MB 128.6 kB/s eta 0:00:22\n",
      "   ---------------------------- ----------- 6.8/9.6 MB 128.6 kB/s eta 0:00:22\n",
      "   ---------------------------- ----------- 6.8/9.6 MB 128.6 kB/s eta 0:00:22\n",
      "   ---------------------------- ----------- 6.8/9.6 MB 128.6 kB/s eta 0:00:22\n",
      "   ---------------------------- ----------- 6.8/9.6 MB 128.6 kB/s eta 0:00:22\n",
      "   ----------------------------- ---------- 7.1/9.6 MB 126.9 kB/s eta 0:00:21\n",
      "   ----------------------------- ---------- 7.1/9.6 MB 126.9 kB/s eta 0:00:21\n",
      "   ----------------------------- ---------- 7.1/9.6 MB 126.9 kB/s eta 0:00:21\n",
      "   ----------------------------- ---------- 7.1/9.6 MB 126.9 kB/s eta 0:00:21\n",
      "   ----------------------------- ---------- 7.1/9.6 MB 126.9 kB/s eta 0:00:21\n",
      "   ----------------------------- ---------- 7.1/9.6 MB 126.9 kB/s eta 0:00:21\n",
      "   ----------------------------- ---------- 7.1/9.6 MB 126.9 kB/s eta 0:00:21\n",
      "   ----------------------------- ---------- 7.1/9.6 MB 126.9 kB/s eta 0:00:21\n",
      "   ----------------------------- ---------- 7.1/9.6 MB 126.9 kB/s eta 0:00:21\n",
      "   ----------------------------- ---------- 7.1/9.6 MB 126.9 kB/s eta 0:00:21\n",
      "   ------------------------------ --------- 7.3/9.6 MB 131.6 kB/s eta 0:00:18\n",
      "   ------------------------------ --------- 7.3/9.6 MB 131.6 kB/s eta 0:00:18\n",
      "   ------------------------------ --------- 7.3/9.6 MB 131.6 kB/s eta 0:00:18\n",
      "   ------------------------------ --------- 7.3/9.6 MB 131.6 kB/s eta 0:00:18\n",
      "   ------------------------------ --------- 7.3/9.6 MB 131.6 kB/s eta 0:00:18\n",
      "   ------------------------------ --------- 7.3/9.6 MB 131.6 kB/s eta 0:00:18\n",
      "   ------------------------------ --------- 7.3/9.6 MB 131.6 kB/s eta 0:00:18\n",
      "   ------------------------------ --------- 7.3/9.6 MB 131.6 kB/s eta 0:00:18\n",
      "   ------------------------------ --------- 7.3/9.6 MB 131.6 kB/s eta 0:00:18\n",
      "   ------------------------------ --------- 7.3/9.6 MB 131.6 kB/s eta 0:00:18\n",
      "   ------------------------------ --------- 7.3/9.6 MB 131.6 kB/s eta 0:00:18\n",
      "   ------------------------------ --------- 7.3/9.6 MB 131.6 kB/s eta 0:00:18\n",
      "   ------------------------------ --------- 7.3/9.6 MB 131.6 kB/s eta 0:00:18\n",
      "   ------------------------------ --------- 7.3/9.6 MB 131.6 kB/s eta 0:00:18\n",
      "   ------------------------------ --------- 7.3/9.6 MB 131.6 kB/s eta 0:00:18\n",
      "   ------------------------------ --------- 7.3/9.6 MB 131.6 kB/s eta 0:00:18\n",
      "   ------------------------------ --------- 7.3/9.6 MB 131.6 kB/s eta 0:00:18\n",
      "   ------------------------------- -------- 7.6/9.6 MB 125.3 kB/s eta 0:00:17\n",
      "   ------------------------------- -------- 7.6/9.6 MB 125.3 kB/s eta 0:00:17\n",
      "   ------------------------------- -------- 7.6/9.6 MB 125.3 kB/s eta 0:00:17\n",
      "   ------------------------------- -------- 7.6/9.6 MB 125.3 kB/s eta 0:00:17\n",
      "   ------------------------------- -------- 7.6/9.6 MB 125.3 kB/s eta 0:00:17\n",
      "   ------------------------------- -------- 7.6/9.6 MB 125.3 kB/s eta 0:00:17\n",
      "   ------------------------------- -------- 7.6/9.6 MB 125.3 kB/s eta 0:00:17\n",
      "   ------------------------------- -------- 7.6/9.6 MB 125.3 kB/s eta 0:00:17\n",
      "   ------------------------------- -------- 7.6/9.6 MB 125.3 kB/s eta 0:00:17\n",
      "   ------------------------------- -------- 7.6/9.6 MB 125.3 kB/s eta 0:00:17\n",
      "   ------------------------------- -------- 7.6/9.6 MB 125.3 kB/s eta 0:00:17\n",
      "   ------------------------------- -------- 7.6/9.6 MB 125.3 kB/s eta 0:00:17\n",
      "   -------------------------------- ------- 7.9/9.6 MB 128.3 kB/s eta 0:00:14\n",
      "   -------------------------------- ------- 7.9/9.6 MB 128.3 kB/s eta 0:00:14\n",
      "   -------------------------------- ------- 7.9/9.6 MB 128.3 kB/s eta 0:00:14\n",
      "   -------------------------------- ------- 7.9/9.6 MB 128.3 kB/s eta 0:00:14\n",
      "   -------------------------------- ------- 7.9/9.6 MB 128.3 kB/s eta 0:00:14\n",
      "   -------------------------------- ------- 7.9/9.6 MB 128.3 kB/s eta 0:00:14\n",
      "   -------------------------------- ------- 7.9/9.6 MB 128.3 kB/s eta 0:00:14\n",
      "   -------------------------------- ------- 7.9/9.6 MB 128.3 kB/s eta 0:00:14\n",
      "   -------------------------------- ------- 7.9/9.6 MB 128.3 kB/s eta 0:00:14\n",
      "   -------------------------------- ------- 7.9/9.6 MB 128.3 kB/s eta 0:00:14\n",
      "   -------------------------------- ------- 7.9/9.6 MB 128.3 kB/s eta 0:00:14\n",
      "   -------------------------------- ------- 7.9/9.6 MB 128.3 kB/s eta 0:00:14\n",
      "   -------------------------------- ------- 7.9/9.6 MB 128.3 kB/s eta 0:00:14\n",
      "   -------------------------------- ------- 7.9/9.6 MB 128.3 kB/s eta 0:00:14\n",
      "   -------------------------------- ------- 7.9/9.6 MB 128.3 kB/s eta 0:00:14\n",
      "   -------------------------------- ------- 7.9/9.6 MB 128.3 kB/s eta 0:00:14\n",
      "   -------------------------------- ------- 7.9/9.6 MB 128.3 kB/s eta 0:00:14\n",
      "   --------------------------------- ------ 8.1/9.6 MB 125.2 kB/s eta 0:00:13\n",
      "   --------------------------------- ------ 8.1/9.6 MB 125.2 kB/s eta 0:00:13\n",
      "   --------------------------------- ------ 8.1/9.6 MB 125.2 kB/s eta 0:00:13\n",
      "   --------------------------------- ------ 8.1/9.6 MB 125.2 kB/s eta 0:00:13\n",
      "   --------------------------------- ------ 8.1/9.6 MB 125.2 kB/s eta 0:00:13\n",
      "   --------------------------------- ------ 8.1/9.6 MB 125.2 kB/s eta 0:00:13\n",
      "   --------------------------------- ------ 8.1/9.6 MB 125.2 kB/s eta 0:00:13\n",
      "   --------------------------------- ------ 8.1/9.6 MB 125.2 kB/s eta 0:00:13\n",
      "   --------------------------------- ------ 8.1/9.6 MB 125.2 kB/s eta 0:00:13\n",
      "   --------------------------------- ------ 8.1/9.6 MB 125.2 kB/s eta 0:00:13\n",
      "   --------------------------------- ------ 8.1/9.6 MB 125.2 kB/s eta 0:00:13\n",
      "   --------------------------------- ------ 8.1/9.6 MB 125.2 kB/s eta 0:00:13\n",
      "   --------------------------------- ------ 8.1/9.6 MB 125.2 kB/s eta 0:00:13\n",
      "   --------------------------------- ------ 8.1/9.6 MB 125.2 kB/s eta 0:00:13\n",
      "   --------------------------------- ------ 8.1/9.6 MB 125.2 kB/s eta 0:00:13\n",
      "   --------------------------------- ------ 8.1/9.6 MB 125.2 kB/s eta 0:00:13\n",
      "   --------------------------------- ------ 8.1/9.6 MB 125.2 kB/s eta 0:00:13\n",
      "   --------------------------------- ------ 8.1/9.6 MB 125.2 kB/s eta 0:00:13\n",
      "   ---------------------------------- ----- 8.4/9.6 MB 116.0 kB/s eta 0:00:11\n",
      "   ---------------------------------- ----- 8.4/9.6 MB 116.0 kB/s eta 0:00:11\n",
      "   ---------------------------------- ----- 8.4/9.6 MB 116.0 kB/s eta 0:00:11\n",
      "   ---------------------------------- ----- 8.4/9.6 MB 116.0 kB/s eta 0:00:11\n",
      "   ---------------------------------- ----- 8.4/9.6 MB 116.0 kB/s eta 0:00:11\n",
      "   ---------------------------------- ----- 8.4/9.6 MB 116.0 kB/s eta 0:00:11\n",
      "   ---------------------------------- ----- 8.4/9.6 MB 116.0 kB/s eta 0:00:11\n",
      "   ---------------------------------- ----- 8.4/9.6 MB 116.0 kB/s eta 0:00:11\n",
      "   ---------------------------------- ----- 8.4/9.6 MB 116.0 kB/s eta 0:00:11\n",
      "   ---------------------------------- ----- 8.4/9.6 MB 116.0 kB/s eta 0:00:11\n",
      "   ---------------------------------- ----- 8.4/9.6 MB 116.0 kB/s eta 0:00:11\n",
      "   ---------------------------------- ----- 8.4/9.6 MB 116.0 kB/s eta 0:00:11\n",
      "   ----------------------------------- ---- 8.7/9.6 MB 108.1 kB/s eta 0:00:10\n",
      "   ----------------------------------- ---- 8.7/9.6 MB 108.1 kB/s eta 0:00:10\n",
      "   ----------------------------------- ---- 8.7/9.6 MB 108.1 kB/s eta 0:00:10\n",
      "   ----------------------------------- ---- 8.7/9.6 MB 108.1 kB/s eta 0:00:10\n",
      "   ----------------------------------- ---- 8.7/9.6 MB 108.1 kB/s eta 0:00:10\n",
      "   ----------------------------------- ---- 8.7/9.6 MB 108.1 kB/s eta 0:00:10\n",
      "   ----------------------------------- ---- 8.7/9.6 MB 108.1 kB/s eta 0:00:10\n",
      "   ----------------------------------- ---- 8.7/9.6 MB 108.1 kB/s eta 0:00:10\n",
      "   ----------------------------------- ---- 8.7/9.6 MB 108.1 kB/s eta 0:00:10\n",
      "   ----------------------------------- ---- 8.7/9.6 MB 108.1 kB/s eta 0:00:10\n",
      "   ----------------------------------- ---- 8.7/9.6 MB 108.1 kB/s eta 0:00:10\n",
      "   ------------------------------------- -- 8.9/9.6 MB 106.1 kB/s eta 0:00:07\n",
      "   ------------------------------------- -- 8.9/9.6 MB 106.1 kB/s eta 0:00:07\n",
      "   ------------------------------------- -- 8.9/9.6 MB 106.1 kB/s eta 0:00:07\n",
      "   ------------------------------------- -- 8.9/9.6 MB 106.1 kB/s eta 0:00:07\n",
      "   ------------------------------------- -- 8.9/9.6 MB 106.1 kB/s eta 0:00:07\n",
      "   ------------------------------------- -- 8.9/9.6 MB 106.1 kB/s eta 0:00:07\n",
      "   ------------------------------------- -- 8.9/9.6 MB 106.1 kB/s eta 0:00:07\n",
      "   ------------------------------------- -- 8.9/9.6 MB 106.1 kB/s eta 0:00:07\n",
      "   ------------------------------------- -- 8.9/9.6 MB 106.1 kB/s eta 0:00:07\n",
      "   ------------------------------------- -- 8.9/9.6 MB 106.1 kB/s eta 0:00:07\n",
      "   ------------------------------------- -- 8.9/9.6 MB 106.1 kB/s eta 0:00:07\n",
      "   ------------------------------------- -- 8.9/9.6 MB 106.1 kB/s eta 0:00:07\n",
      "   ------------------------------------- -- 8.9/9.6 MB 106.1 kB/s eta 0:00:07\n",
      "   ------------------------------------- -- 8.9/9.6 MB 106.1 kB/s eta 0:00:07\n",
      "   ------------------------------------- -- 8.9/9.6 MB 106.1 kB/s eta 0:00:07\n",
      "   ------------------------------------- -- 8.9/9.6 MB 106.1 kB/s eta 0:00:07\n",
      "   ------------------------------------- -- 8.9/9.6 MB 106.1 kB/s eta 0:00:07\n",
      "   ------------------------------------- -- 8.9/9.6 MB 106.1 kB/s eta 0:00:07\n",
      "   ------------------------------------- -- 8.9/9.6 MB 106.1 kB/s eta 0:00:07\n",
      "   ------------------------------------- -- 8.9/9.6 MB 106.1 kB/s eta 0:00:07\n",
      "   ------------------------------------- -- 8.9/9.6 MB 106.1 kB/s eta 0:00:07\n",
      "   -------------------------------------- - 9.2/9.6 MB 91.1 kB/s eta 0:00:06\n",
      "   -------------------------------------- - 9.2/9.6 MB 91.1 kB/s eta 0:00:06\n",
      "   -------------------------------------- - 9.2/9.6 MB 91.1 kB/s eta 0:00:06\n",
      "   -------------------------------------- - 9.2/9.6 MB 91.1 kB/s eta 0:00:06\n",
      "   -------------------------------------- - 9.2/9.6 MB 91.1 kB/s eta 0:00:06\n",
      "   -------------------------------------- - 9.2/9.6 MB 91.1 kB/s eta 0:00:06\n",
      "   -------------------------------------- - 9.2/9.6 MB 91.1 kB/s eta 0:00:06\n",
      "   -------------------------------------- - 9.2/9.6 MB 91.1 kB/s eta 0:00:06\n",
      "   -------------------------------------- - 9.2/9.6 MB 91.1 kB/s eta 0:00:06\n",
      "   -------------------------------------- - 9.2/9.6 MB 91.1 kB/s eta 0:00:06\n",
      "   -------------------------------------- - 9.2/9.6 MB 91.1 kB/s eta 0:00:06\n",
      "   -------------------------------------- - 9.2/9.6 MB 91.1 kB/s eta 0:00:06\n",
      "   -------------------------------------- - 9.2/9.6 MB 91.1 kB/s eta 0:00:06\n",
      "   -------------------------------------- - 9.2/9.6 MB 91.1 kB/s eta 0:00:06\n",
      "   ---------------------------------------  9.4/9.6 MB 89.1 kB/s eta 0:00:03\n",
      "   ---------------------------------------  9.4/9.6 MB 89.1 kB/s eta 0:00:03\n",
      "   ---------------------------------------  9.4/9.6 MB 89.1 kB/s eta 0:00:03\n",
      "   ---------------------------------------  9.4/9.6 MB 89.1 kB/s eta 0:00:03\n",
      "   ---------------------------------------  9.4/9.6 MB 89.1 kB/s eta 0:00:03\n",
      "   ---------------------------------------  9.4/9.6 MB 89.1 kB/s eta 0:00:03\n",
      "   ---------------------------------------  9.4/9.6 MB 89.1 kB/s eta 0:00:03\n",
      "   ---------------------------------------  9.4/9.6 MB 89.1 kB/s eta 0:00:03\n",
      "   ---------------------------------------  9.4/9.6 MB 89.1 kB/s eta 0:00:03\n",
      "   ---------------------------------------  9.4/9.6 MB 89.1 kB/s eta 0:00:03\n",
      "   ---------------------------------------- 9.6/9.6 MB 85.9 kB/s eta 0:00:00\n",
      "Downloading narwhals-2.0.1-py3-none-any.whl (385 kB)\n",
      "Installing collected packages: narwhals, plotly\n",
      "\n",
      "   ---------------------------------------- 0/2 [narwhals]\n",
      "   ---------------------------------------- 0/2 [narwhals]\n",
      "   ---------------------------------------- 0/2 [narwhals]\n",
      "   ---------------------------------------- 0/2 [narwhals]\n",
      "   ---------------------------------------- 0/2 [narwhals]\n",
      "   ---------------------------------------- 0/2 [narwhals]\n",
      "   ---------------------------------------- 0/2 [narwhals]\n",
      "   ---------------------------------------- 0/2 [narwhals]\n",
      "   -------------------- ------------------- 1/2 [plotly]\n",
      "   -------------------- ------------------- 1/2 [plotly]\n",
      "   -------------------- ------------------- 1/2 [plotly]\n",
      "   -------------------- ------------------- 1/2 [plotly]\n",
      "   -------------------- ------------------- 1/2 [plotly]\n",
      "   -------------------- ------------------- 1/2 [plotly]\n",
      "   -------------------- ------------------- 1/2 [plotly]\n",
      "   -------------------- ------------------- 1/2 [plotly]\n",
      "   -------------------- ------------------- 1/2 [plotly]\n",
      "   -------------------- ------------------- 1/2 [plotly]\n",
      "   -------------------- ------------------- 1/2 [plotly]\n",
      "   -------------------- ------------------- 1/2 [plotly]\n",
      "   -------------------- ------------------- 1/2 [plotly]\n",
      "   -------------------- ------------------- 1/2 [plotly]\n",
      "   -------------------- ------------------- 1/2 [plotly]\n",
      "   -------------------- ------------------- 1/2 [plotly]\n",
      "   -------------------- ------------------- 1/2 [plotly]\n",
      "   -------------------- ------------------- 1/2 [plotly]\n",
      "   -------------------- ------------------- 1/2 [plotly]\n",
      "   -------------------- ------------------- 1/2 [plotly]\n",
      "   -------------------- ------------------- 1/2 [plotly]\n",
      "   -------------------- ------------------- 1/2 [plotly]\n",
      "   -------------------- ------------------- 1/2 [plotly]\n",
      "   -------------------- ------------------- 1/2 [plotly]\n",
      "   -------------------- ------------------- 1/2 [plotly]\n",
      "   -------------------- ------------------- 1/2 [plotly]\n",
      "   -------------------- ------------------- 1/2 [plotly]\n",
      "   -------------------- ------------------- 1/2 [plotly]\n",
      "   -------------------- ------------------- 1/2 [plotly]\n",
      "   -------------------- ------------------- 1/2 [plotly]\n",
      "   -------------------- ------------------- 1/2 [plotly]\n",
      "   -------------------- ------------------- 1/2 [plotly]\n",
      "   -------------------- ------------------- 1/2 [plotly]\n",
      "   -------------------- ------------------- 1/2 [plotly]\n",
      "   -------------------- ------------------- 1/2 [plotly]\n",
      "   -------------------- ------------------- 1/2 [plotly]\n",
      "   -------------------- ------------------- 1/2 [plotly]\n",
      "   -------------------- ------------------- 1/2 [plotly]\n",
      "   -------------------- ------------------- 1/2 [plotly]\n",
      "   -------------------- ------------------- 1/2 [plotly]\n",
      "   -------------------- ------------------- 1/2 [plotly]\n",
      "   -------------------- ------------------- 1/2 [plotly]\n",
      "   -------------------- ------------------- 1/2 [plotly]\n",
      "   -------------------- ------------------- 1/2 [plotly]\n",
      "   -------------------- ------------------- 1/2 [plotly]\n",
      "   -------------------- ------------------- 1/2 [plotly]\n",
      "   -------------------- ------------------- 1/2 [plotly]\n",
      "   -------------------- ------------------- 1/2 [plotly]\n",
      "   -------------------- ------------------- 1/2 [plotly]\n",
      "   -------------------- ------------------- 1/2 [plotly]\n",
      "   -------------------- ------------------- 1/2 [plotly]\n",
      "   -------------------- ------------------- 1/2 [plotly]\n",
      "   -------------------- ------------------- 1/2 [plotly]\n",
      "   -------------------- ------------------- 1/2 [plotly]\n",
      "   -------------------- ------------------- 1/2 [plotly]\n",
      "   -------------------- ------------------- 1/2 [plotly]\n",
      "   -------------------- ------------------- 1/2 [plotly]\n",
      "   -------------------- ------------------- 1/2 [plotly]\n",
      "   -------------------- ------------------- 1/2 [plotly]\n",
      "   -------------------- ------------------- 1/2 [plotly]\n",
      "   -------------------- ------------------- 1/2 [plotly]\n",
      "   -------------------- ------------------- 1/2 [plotly]\n",
      "   -------------------- ------------------- 1/2 [plotly]\n",
      "   -------------------- ------------------- 1/2 [plotly]\n",
      "   -------------------- ------------------- 1/2 [plotly]\n",
      "   -------------------- ------------------- 1/2 [plotly]\n",
      "   -------------------- ------------------- 1/2 [plotly]\n",
      "   -------------------- ------------------- 1/2 [plotly]\n",
      "   -------------------- ------------------- 1/2 [plotly]\n",
      "   -------------------- ------------------- 1/2 [plotly]\n",
      "   -------------------- ------------------- 1/2 [plotly]\n",
      "   -------------------- ------------------- 1/2 [plotly]\n",
      "   -------------------- ------------------- 1/2 [plotly]\n",
      "   -------------------- ------------------- 1/2 [plotly]\n",
      "   -------------------- ------------------- 1/2 [plotly]\n",
      "   -------------------- ------------------- 1/2 [plotly]\n",
      "   -------------------- ------------------- 1/2 [plotly]\n",
      "   -------------------- ------------------- 1/2 [plotly]\n",
      "   -------------------- ------------------- 1/2 [plotly]\n",
      "   -------------------- ------------------- 1/2 [plotly]\n",
      "   -------------------- ------------------- 1/2 [plotly]\n",
      "   -------------------- ------------------- 1/2 [plotly]\n",
      "   -------------------- ------------------- 1/2 [plotly]\n",
      "   -------------------- ------------------- 1/2 [plotly]\n",
      "   -------------------- ------------------- 1/2 [plotly]\n",
      "   ---------------------------------------- 2/2 [plotly]\n",
      "\n",
      "Successfully installed narwhals-2.0.1 plotly-6.2.0\n"
     ]
    }
   ],
   "source": [
    "!pip install plotly"
   ]
  },
  {
   "cell_type": "code",
   "execution_count": 19,
   "id": "bfe82c33-88ad-45cb-9766-0abd4241136e",
   "metadata": {},
   "outputs": [
    {
     "data": {
      "application/vnd.plotly.v1+json": {
       "config": {
        "plotlyServerURL": "https://plot.ly"
       },
       "data": [
        {
         "coloraxis": "coloraxis",
         "geo": "geo",
         "hovertemplate": "<b>%{hovertext}</b><br><br>iso_code=%{location}<br>total_cases=%{z}<extra></extra>",
         "hovertext": [
          "India"
         ],
         "locations": [
          "IND"
         ],
         "name": "",
         "type": "choropleth",
         "z": {
          "bdata": "AAAAAAAAAAA=",
          "dtype": "f8"
         }
        }
       ],
       "layout": {
        "coloraxis": {
         "colorbar": {
          "title": {
           "text": "total_cases"
          }
         },
         "colorscale": [
          [
           0,
           "rgb(255,247,236)"
          ],
          [
           0.125,
           "rgb(254,232,200)"
          ],
          [
           0.25,
           "rgb(253,212,158)"
          ],
          [
           0.375,
           "rgb(253,187,132)"
          ],
          [
           0.5,
           "rgb(252,141,89)"
          ],
          [
           0.625,
           "rgb(239,101,72)"
          ],
          [
           0.75,
           "rgb(215,48,31)"
          ],
          [
           0.875,
           "rgb(179,0,0)"
          ],
          [
           1,
           "rgb(127,0,0)"
          ]
         ]
        },
        "geo": {
         "center": {},
         "domain": {
          "x": [
           0,
           1
          ],
          "y": [
           0,
           1
          ]
         }
        },
        "legend": {
         "tracegroupgap": 0
        },
        "template": {
         "data": {
          "bar": [
           {
            "error_x": {
             "color": "#2a3f5f"
            },
            "error_y": {
             "color": "#2a3f5f"
            },
            "marker": {
             "line": {
              "color": "#E5ECF6",
              "width": 0.5
             },
             "pattern": {
              "fillmode": "overlay",
              "size": 10,
              "solidity": 0.2
             }
            },
            "type": "bar"
           }
          ],
          "barpolar": [
           {
            "marker": {
             "line": {
              "color": "#E5ECF6",
              "width": 0.5
             },
             "pattern": {
              "fillmode": "overlay",
              "size": 10,
              "solidity": 0.2
             }
            },
            "type": "barpolar"
           }
          ],
          "carpet": [
           {
            "aaxis": {
             "endlinecolor": "#2a3f5f",
             "gridcolor": "white",
             "linecolor": "white",
             "minorgridcolor": "white",
             "startlinecolor": "#2a3f5f"
            },
            "baxis": {
             "endlinecolor": "#2a3f5f",
             "gridcolor": "white",
             "linecolor": "white",
             "minorgridcolor": "white",
             "startlinecolor": "#2a3f5f"
            },
            "type": "carpet"
           }
          ],
          "choropleth": [
           {
            "colorbar": {
             "outlinewidth": 0,
             "ticks": ""
            },
            "type": "choropleth"
           }
          ],
          "contour": [
           {
            "colorbar": {
             "outlinewidth": 0,
             "ticks": ""
            },
            "colorscale": [
             [
              0,
              "#0d0887"
             ],
             [
              0.1111111111111111,
              "#46039f"
             ],
             [
              0.2222222222222222,
              "#7201a8"
             ],
             [
              0.3333333333333333,
              "#9c179e"
             ],
             [
              0.4444444444444444,
              "#bd3786"
             ],
             [
              0.5555555555555556,
              "#d8576b"
             ],
             [
              0.6666666666666666,
              "#ed7953"
             ],
             [
              0.7777777777777778,
              "#fb9f3a"
             ],
             [
              0.8888888888888888,
              "#fdca26"
             ],
             [
              1,
              "#f0f921"
             ]
            ],
            "type": "contour"
           }
          ],
          "contourcarpet": [
           {
            "colorbar": {
             "outlinewidth": 0,
             "ticks": ""
            },
            "type": "contourcarpet"
           }
          ],
          "heatmap": [
           {
            "colorbar": {
             "outlinewidth": 0,
             "ticks": ""
            },
            "colorscale": [
             [
              0,
              "#0d0887"
             ],
             [
              0.1111111111111111,
              "#46039f"
             ],
             [
              0.2222222222222222,
              "#7201a8"
             ],
             [
              0.3333333333333333,
              "#9c179e"
             ],
             [
              0.4444444444444444,
              "#bd3786"
             ],
             [
              0.5555555555555556,
              "#d8576b"
             ],
             [
              0.6666666666666666,
              "#ed7953"
             ],
             [
              0.7777777777777778,
              "#fb9f3a"
             ],
             [
              0.8888888888888888,
              "#fdca26"
             ],
             [
              1,
              "#f0f921"
             ]
            ],
            "type": "heatmap"
           }
          ],
          "histogram": [
           {
            "marker": {
             "pattern": {
              "fillmode": "overlay",
              "size": 10,
              "solidity": 0.2
             }
            },
            "type": "histogram"
           }
          ],
          "histogram2d": [
           {
            "colorbar": {
             "outlinewidth": 0,
             "ticks": ""
            },
            "colorscale": [
             [
              0,
              "#0d0887"
             ],
             [
              0.1111111111111111,
              "#46039f"
             ],
             [
              0.2222222222222222,
              "#7201a8"
             ],
             [
              0.3333333333333333,
              "#9c179e"
             ],
             [
              0.4444444444444444,
              "#bd3786"
             ],
             [
              0.5555555555555556,
              "#d8576b"
             ],
             [
              0.6666666666666666,
              "#ed7953"
             ],
             [
              0.7777777777777778,
              "#fb9f3a"
             ],
             [
              0.8888888888888888,
              "#fdca26"
             ],
             [
              1,
              "#f0f921"
             ]
            ],
            "type": "histogram2d"
           }
          ],
          "histogram2dcontour": [
           {
            "colorbar": {
             "outlinewidth": 0,
             "ticks": ""
            },
            "colorscale": [
             [
              0,
              "#0d0887"
             ],
             [
              0.1111111111111111,
              "#46039f"
             ],
             [
              0.2222222222222222,
              "#7201a8"
             ],
             [
              0.3333333333333333,
              "#9c179e"
             ],
             [
              0.4444444444444444,
              "#bd3786"
             ],
             [
              0.5555555555555556,
              "#d8576b"
             ],
             [
              0.6666666666666666,
              "#ed7953"
             ],
             [
              0.7777777777777778,
              "#fb9f3a"
             ],
             [
              0.8888888888888888,
              "#fdca26"
             ],
             [
              1,
              "#f0f921"
             ]
            ],
            "type": "histogram2dcontour"
           }
          ],
          "mesh3d": [
           {
            "colorbar": {
             "outlinewidth": 0,
             "ticks": ""
            },
            "type": "mesh3d"
           }
          ],
          "parcoords": [
           {
            "line": {
             "colorbar": {
              "outlinewidth": 0,
              "ticks": ""
             }
            },
            "type": "parcoords"
           }
          ],
          "pie": [
           {
            "automargin": true,
            "type": "pie"
           }
          ],
          "scatter": [
           {
            "fillpattern": {
             "fillmode": "overlay",
             "size": 10,
             "solidity": 0.2
            },
            "type": "scatter"
           }
          ],
          "scatter3d": [
           {
            "line": {
             "colorbar": {
              "outlinewidth": 0,
              "ticks": ""
             }
            },
            "marker": {
             "colorbar": {
              "outlinewidth": 0,
              "ticks": ""
             }
            },
            "type": "scatter3d"
           }
          ],
          "scattercarpet": [
           {
            "marker": {
             "colorbar": {
              "outlinewidth": 0,
              "ticks": ""
             }
            },
            "type": "scattercarpet"
           }
          ],
          "scattergeo": [
           {
            "marker": {
             "colorbar": {
              "outlinewidth": 0,
              "ticks": ""
             }
            },
            "type": "scattergeo"
           }
          ],
          "scattergl": [
           {
            "marker": {
             "colorbar": {
              "outlinewidth": 0,
              "ticks": ""
             }
            },
            "type": "scattergl"
           }
          ],
          "scattermap": [
           {
            "marker": {
             "colorbar": {
              "outlinewidth": 0,
              "ticks": ""
             }
            },
            "type": "scattermap"
           }
          ],
          "scattermapbox": [
           {
            "marker": {
             "colorbar": {
              "outlinewidth": 0,
              "ticks": ""
             }
            },
            "type": "scattermapbox"
           }
          ],
          "scatterpolar": [
           {
            "marker": {
             "colorbar": {
              "outlinewidth": 0,
              "ticks": ""
             }
            },
            "type": "scatterpolar"
           }
          ],
          "scatterpolargl": [
           {
            "marker": {
             "colorbar": {
              "outlinewidth": 0,
              "ticks": ""
             }
            },
            "type": "scatterpolargl"
           }
          ],
          "scatterternary": [
           {
            "marker": {
             "colorbar": {
              "outlinewidth": 0,
              "ticks": ""
             }
            },
            "type": "scatterternary"
           }
          ],
          "surface": [
           {
            "colorbar": {
             "outlinewidth": 0,
             "ticks": ""
            },
            "colorscale": [
             [
              0,
              "#0d0887"
             ],
             [
              0.1111111111111111,
              "#46039f"
             ],
             [
              0.2222222222222222,
              "#7201a8"
             ],
             [
              0.3333333333333333,
              "#9c179e"
             ],
             [
              0.4444444444444444,
              "#bd3786"
             ],
             [
              0.5555555555555556,
              "#d8576b"
             ],
             [
              0.6666666666666666,
              "#ed7953"
             ],
             [
              0.7777777777777778,
              "#fb9f3a"
             ],
             [
              0.8888888888888888,
              "#fdca26"
             ],
             [
              1,
              "#f0f921"
             ]
            ],
            "type": "surface"
           }
          ],
          "table": [
           {
            "cells": {
             "fill": {
              "color": "#EBF0F8"
             },
             "line": {
              "color": "white"
             }
            },
            "header": {
             "fill": {
              "color": "#C8D4E3"
             },
             "line": {
              "color": "white"
             }
            },
            "type": "table"
           }
          ]
         },
         "layout": {
          "annotationdefaults": {
           "arrowcolor": "#2a3f5f",
           "arrowhead": 0,
           "arrowwidth": 1
          },
          "autotypenumbers": "strict",
          "coloraxis": {
           "colorbar": {
            "outlinewidth": 0,
            "ticks": ""
           }
          },
          "colorscale": {
           "diverging": [
            [
             0,
             "#8e0152"
            ],
            [
             0.1,
             "#c51b7d"
            ],
            [
             0.2,
             "#de77ae"
            ],
            [
             0.3,
             "#f1b6da"
            ],
            [
             0.4,
             "#fde0ef"
            ],
            [
             0.5,
             "#f7f7f7"
            ],
            [
             0.6,
             "#e6f5d0"
            ],
            [
             0.7,
             "#b8e186"
            ],
            [
             0.8,
             "#7fbc41"
            ],
            [
             0.9,
             "#4d9221"
            ],
            [
             1,
             "#276419"
            ]
           ],
           "sequential": [
            [
             0,
             "#0d0887"
            ],
            [
             0.1111111111111111,
             "#46039f"
            ],
            [
             0.2222222222222222,
             "#7201a8"
            ],
            [
             0.3333333333333333,
             "#9c179e"
            ],
            [
             0.4444444444444444,
             "#bd3786"
            ],
            [
             0.5555555555555556,
             "#d8576b"
            ],
            [
             0.6666666666666666,
             "#ed7953"
            ],
            [
             0.7777777777777778,
             "#fb9f3a"
            ],
            [
             0.8888888888888888,
             "#fdca26"
            ],
            [
             1,
             "#f0f921"
            ]
           ],
           "sequentialminus": [
            [
             0,
             "#0d0887"
            ],
            [
             0.1111111111111111,
             "#46039f"
            ],
            [
             0.2222222222222222,
             "#7201a8"
            ],
            [
             0.3333333333333333,
             "#9c179e"
            ],
            [
             0.4444444444444444,
             "#bd3786"
            ],
            [
             0.5555555555555556,
             "#d8576b"
            ],
            [
             0.6666666666666666,
             "#ed7953"
            ],
            [
             0.7777777777777778,
             "#fb9f3a"
            ],
            [
             0.8888888888888888,
             "#fdca26"
            ],
            [
             1,
             "#f0f921"
            ]
           ]
          },
          "colorway": [
           "#636efa",
           "#EF553B",
           "#00cc96",
           "#ab63fa",
           "#FFA15A",
           "#19d3f3",
           "#FF6692",
           "#B6E880",
           "#FF97FF",
           "#FECB52"
          ],
          "font": {
           "color": "#2a3f5f"
          },
          "geo": {
           "bgcolor": "white",
           "lakecolor": "white",
           "landcolor": "#E5ECF6",
           "showlakes": true,
           "showland": true,
           "subunitcolor": "white"
          },
          "hoverlabel": {
           "align": "left"
          },
          "hovermode": "closest",
          "mapbox": {
           "style": "light"
          },
          "paper_bgcolor": "white",
          "plot_bgcolor": "#E5ECF6",
          "polar": {
           "angularaxis": {
            "gridcolor": "white",
            "linecolor": "white",
            "ticks": ""
           },
           "bgcolor": "#E5ECF6",
           "radialaxis": {
            "gridcolor": "white",
            "linecolor": "white",
            "ticks": ""
           }
          },
          "scene": {
           "xaxis": {
            "backgroundcolor": "#E5ECF6",
            "gridcolor": "white",
            "gridwidth": 2,
            "linecolor": "white",
            "showbackground": true,
            "ticks": "",
            "zerolinecolor": "white"
           },
           "yaxis": {
            "backgroundcolor": "#E5ECF6",
            "gridcolor": "white",
            "gridwidth": 2,
            "linecolor": "white",
            "showbackground": true,
            "ticks": "",
            "zerolinecolor": "white"
           },
           "zaxis": {
            "backgroundcolor": "#E5ECF6",
            "gridcolor": "white",
            "gridwidth": 2,
            "linecolor": "white",
            "showbackground": true,
            "ticks": "",
            "zerolinecolor": "white"
           }
          },
          "shapedefaults": {
           "line": {
            "color": "#2a3f5f"
           }
          },
          "ternary": {
           "aaxis": {
            "gridcolor": "white",
            "linecolor": "white",
            "ticks": ""
           },
           "baxis": {
            "gridcolor": "white",
            "linecolor": "white",
            "ticks": ""
           },
           "bgcolor": "#E5ECF6",
           "caxis": {
            "gridcolor": "white",
            "linecolor": "white",
            "ticks": ""
           }
          },
          "title": {
           "x": 0.05
          },
          "xaxis": {
           "automargin": true,
           "gridcolor": "white",
           "linecolor": "white",
           "ticks": "",
           "title": {
            "standoff": 15
           },
           "zerolinecolor": "white",
           "zerolinewidth": 2
          },
          "yaxis": {
           "automargin": true,
           "gridcolor": "white",
           "linecolor": "white",
           "ticks": "",
           "title": {
            "standoff": 15
           },
           "zerolinecolor": "white",
           "zerolinewidth": 2
          }
         }
        },
        "title": {
         "text": "COVID-19 Total Cases by Country as of 2024-08-12 00:00:00"
        }
       }
      }
     },
     "metadata": {},
     "output_type": "display_data"
    }
   ],
   "source": [
    "import plotly.express as px\n",
    "\n",
    "# Get the latest data (most recent date in the dataset)\n",
    "latest_date = df['date'].max()\n",
    "latest_data = df[df['date'] == latest_date]\n",
    "\n",
    "# Filter columns needed for map\n",
    "map_data = latest_data[['iso_code', 'location', 'total_cases']].dropna()\n",
    "\n",
    "# Create map\n",
    "fig = px.choropleth(map_data,\n",
    "                    locations='iso_code',\n",
    "                    color='total_cases',\n",
    "                    hover_name='location',\n",
    "                    color_continuous_scale='OrRd',\n",
    "                    title=f'COVID-19 Total Cases by Country as of {latest_date}')\n",
    "fig.show()\n"
   ]
  },
  {
   "cell_type": "markdown",
   "id": "bae0866f-6da5-4b23-a26d-0f3b5b3934bd",
   "metadata": {},
   "source": [
    "## Key Insights\n",
    "\n",
    "1. 🇺🇸 **USA** had the highest number of total cases.\n",
    "2. 🇮🇳 **India** showed major spikes during mid-2021.\n",
    "3.  Vaccination progress was fastest in developed countries.\n"
   ]
  },
  {
   "cell_type": "code",
   "execution_count": null,
   "id": "4c6cb196-ef89-42b9-8d37-10c575c3b719",
   "metadata": {},
   "outputs": [],
   "source": []
  }
 ],
 "metadata": {
  "kernelspec": {
   "display_name": "Python 3 (ipykernel)",
   "language": "python",
   "name": "python3"
  },
  "language_info": {
   "codemirror_mode": {
    "name": "ipython",
    "version": 3
   },
   "file_extension": ".py",
   "mimetype": "text/x-python",
   "name": "python",
   "nbconvert_exporter": "python",
   "pygments_lexer": "ipython3",
   "version": "3.13.5"
  }
 },
 "nbformat": 4,
 "nbformat_minor": 5
}
